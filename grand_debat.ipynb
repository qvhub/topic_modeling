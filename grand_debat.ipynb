{
 "cells": [
  {
   "cell_type": "markdown",
   "metadata": {},
   "source": [
    "# TOPIC MODELING\n",
    "\n",
    "La modélisation de sujet est une technique d'apprentissage automatique non supervisée qui a pour but d’extraire, depuis un ensemble de document; les sujets principaux qui sont représentés par un ensemble de mots.\n",
    "\n",
    "## Latent Dirichlet Allocation (LDA)\n",
    "\n",
    "Est un modèle qui part du principe que chaque document est un mélange de sujet et que chaque occurrence d’un mot correspond à un sujet du document. Chaque mot se voit attribuer un sujet selon la loi de Dirichlet. \n",
    "\n",
    "Par itération le modèle va attribuer des mots aux sujets, en y appliquant des formules de calcul de probabilité en se reposant sur les principe suivant :\n",
    "\n",
    "- Chaque document du corpus est un ensemble de mots sans ordre (bag-of-words) ;\n",
    "- Chaque document m  aborde un certain nombre de thèmes dans différentes proportions qui lui sont propres p(θm)\n",
    "- Chaque mot possède une distribution associée à chaque thème p(ϕk). On peut ainsi représenter chaque thème par une probabilité sur chaque mot.\n",
    "- zn représente le thème du mot wn\n",
    "\n",
    "https://fr.wikipedia.org/wiki/Allocation_de_Dirichlet_latente#/media/Fichier:Latent_Dirichlet_allocation.svg\n"
   ]
  },
  {
   "cell_type": "markdown",
   "metadata": {},
   "source": [
    "# 1 Import des donnees\n",
    "\n",
    "Les donnees proviennes "
   ]
  },
  {
   "cell_type": "code",
   "execution_count": 1,
   "metadata": {},
   "outputs": [
    {
     "name": "stderr",
     "output_type": "stream",
     "text": [
      "/tmp/ipykernel_5708/1324885382.py:7: FutureWarning: The error_bad_lines argument has been deprecated and will be removed in a future version. Use on_bad_lines in the future.\n",
      "\n",
      "\n",
      "  raw_data = pd.read_csv(chemin, error_bad_lines=False, warn_bad_lines=False)\n",
      "/tmp/ipykernel_5708/1324885382.py:7: FutureWarning: The warn_bad_lines argument has been deprecated and will be removed in a future version. Use on_bad_lines in the future.\n",
      "\n",
      "\n",
      "  raw_data = pd.read_csv(chemin, error_bad_lines=False, warn_bad_lines=False)\n",
      "/tmp/ipykernel_5708/1324885382.py:7: DtypeWarning: Columns (6) have mixed types. Specify dtype option on import or set low_memory=False.\n",
      "  raw_data = pd.read_csv(chemin, error_bad_lines=False, warn_bad_lines=False)\n"
     ]
    },
    {
     "data": {
      "text/html": [
       "<div>\n",
       "<style scoped>\n",
       "    .dataframe tbody tr th:only-of-type {\n",
       "        vertical-align: middle;\n",
       "    }\n",
       "\n",
       "    .dataframe tbody tr th {\n",
       "        vertical-align: top;\n",
       "    }\n",
       "\n",
       "    .dataframe thead th {\n",
       "        text-align: right;\n",
       "    }\n",
       "</style>\n",
       "<table border=\"1\" class=\"dataframe\">\n",
       "  <thead>\n",
       "    <tr style=\"text-align: right;\">\n",
       "      <th></th>\n",
       "      <th>reference</th>\n",
       "      <th>title</th>\n",
       "      <th>createdAt</th>\n",
       "      <th>publishedAt</th>\n",
       "      <th>updatedAt</th>\n",
       "      <th>trashed</th>\n",
       "      <th>trashedStatus</th>\n",
       "      <th>authorId</th>\n",
       "      <th>authorType</th>\n",
       "      <th>authorZipCode</th>\n",
       "      <th>...</th>\n",
       "      <th>Qu'est-ce qui pourrait vous inciter à changer vos comportements comme par exemple mieux entretenir et régler votre chauffage, modifier votre manière de conduire ou renoncer à prendre votre véhicule pour de très petites distances ?</th>\n",
       "      <th>Quelles seraient pour vous les solutions les plus simples et les plus supportables sur un plan financier pour vous inciter à changer vos comportements ?</th>\n",
       "      <th>Par rapport à votre mode de chauffage actuel, pensez-vous qu'il existe des solutions alternatives plus écologiques ?</th>\n",
       "      <th>Si oui, que faudrait-il faire pour vous convaincre ou vous aider à changer de mode de chauffage ?</th>\n",
       "      <th>Avez-vous pour vos déplacements quotidiens la possibilité de recourir à des solutions de mobilité alternatives à la voiture individuelle comme les transports en commun, le covoiturage, l'auto-partage, le transport à la demande, le vélo, etc. ?</th>\n",
       "      <th>Si oui, que faudrait-il faire pour vous convaincre ou vous aider à utiliser ces solutions alternatives ?</th>\n",
       "      <th>Si non, quelles sont les solutions de mobilité alternatives que vous souhaiteriez pouvoir utiliser ?</th>\n",
       "      <th>Et qui doit selon vous se charger de vous proposer ce type de solutions alternatives ?</th>\n",
       "      <th>Que pourrait faire la France pour faire partager ses choix en matière d'environnement au niveau européen et international ?</th>\n",
       "      <th>Y a-t-il d'autres points sur la transition écologique sur lesquels vous souhaiteriez vous exprimer ?</th>\n",
       "    </tr>\n",
       "  </thead>\n",
       "  <tbody>\n",
       "    <tr>\n",
       "      <th>0</th>\n",
       "      <td>2-4</td>\n",
       "      <td>transition écologique</td>\n",
       "      <td>2019-01-22 09:37:49</td>\n",
       "      <td>2019-01-22 09:37:49</td>\n",
       "      <td>NaN</td>\n",
       "      <td>False</td>\n",
       "      <td>NaN</td>\n",
       "      <td>VXNlcjoxMTQwMTc0YS0xZTFmLTExZTktOTRkMi1mYTE2M2...</td>\n",
       "      <td>Citoyen / Citoyenne</td>\n",
       "      <td>97231</td>\n",
       "      <td>...</td>\n",
       "      <td>NaN</td>\n",
       "      <td>NaN</td>\n",
       "      <td>NaN</td>\n",
       "      <td>NaN</td>\n",
       "      <td>NaN</td>\n",
       "      <td>NaN</td>\n",
       "      <td>NaN</td>\n",
       "      <td>NaN</td>\n",
       "      <td>Enseignement du tri sélectif à l'école</td>\n",
       "      <td>Multiplier les centrales géothermiques</td>\n",
       "    </tr>\n",
       "    <tr>\n",
       "      <th>1</th>\n",
       "      <td>2-5</td>\n",
       "      <td>La surpopulation</td>\n",
       "      <td>2019-01-22 09:39:33</td>\n",
       "      <td>2019-01-22 09:39:33</td>\n",
       "      <td>NaN</td>\n",
       "      <td>False</td>\n",
       "      <td>NaN</td>\n",
       "      <td>VXNlcjpjOWYxZWQ1NS0xYzEwLTExZTktOTRkMi1mYTE2M2...</td>\n",
       "      <td>Citoyen / Citoyenne</td>\n",
       "      <td>57000</td>\n",
       "      <td>...</td>\n",
       "      <td>NaN</td>\n",
       "      <td>NaN</td>\n",
       "      <td>NaN</td>\n",
       "      <td>NaN</td>\n",
       "      <td>NaN</td>\n",
       "      <td>NaN</td>\n",
       "      <td>NaN</td>\n",
       "      <td>NaN</td>\n",
       "      <td>Mettre en oeuvre au niveau national ses engage...</td>\n",
       "      <td>Les problèmes auxquels se trouve confronté l’e...</td>\n",
       "    </tr>\n",
       "    <tr>\n",
       "      <th>2</th>\n",
       "      <td>2-6</td>\n",
       "      <td>climat</td>\n",
       "      <td>2019-01-22 09:39:50</td>\n",
       "      <td>2019-01-22 09:39:50</td>\n",
       "      <td>NaN</td>\n",
       "      <td>False</td>\n",
       "      <td>NaN</td>\n",
       "      <td>VXNlcjozZjlhNzAwOS0xYTc2LTExZTktOTRkMi1mYTE2M2...</td>\n",
       "      <td>Citoyen / Citoyenne</td>\n",
       "      <td>34140</td>\n",
       "      <td>...</td>\n",
       "      <td>développer  les transports en commun ,</td>\n",
       "      <td>NaN</td>\n",
       "      <td>Non</td>\n",
       "      <td>NaN</td>\n",
       "      <td>Oui</td>\n",
       "      <td>NaN</td>\n",
       "      <td>Les transports en commun, L'auto partage, Le t...</td>\n",
       "      <td>NaN</td>\n",
       "      <td>NaN</td>\n",
       "      <td>NaN</td>\n",
       "    </tr>\n",
       "    <tr>\n",
       "      <th>3</th>\n",
       "      <td>2-7</td>\n",
       "      <td>POLLUTION AIR EAU</td>\n",
       "      <td>2019-01-22 09:40:19</td>\n",
       "      <td>2019-01-22 09:40:19</td>\n",
       "      <td>NaN</td>\n",
       "      <td>False</td>\n",
       "      <td>NaN</td>\n",
       "      <td>VXNlcjozOWQwNzJjNC0xZDEwLTExZTktOTRkMi1mYTE2M2...</td>\n",
       "      <td>Citoyen / Citoyenne</td>\n",
       "      <td>17400</td>\n",
       "      <td>...</td>\n",
       "      <td>NaN</td>\n",
       "      <td>Plus de transports publics dans les petites co...</td>\n",
       "      <td>Non</td>\n",
       "      <td>NaN</td>\n",
       "      <td>Non</td>\n",
       "      <td>Le co-voiturage ne correspond pas toujours aux...</td>\n",
       "      <td>Les transports en commun</td>\n",
       "      <td>L'Etat</td>\n",
       "      <td>Elle n'a aucun pouvoir. Impossible de contrain...</td>\n",
       "      <td>NaN</td>\n",
       "    </tr>\n",
       "    <tr>\n",
       "      <th>4</th>\n",
       "      <td>2-8</td>\n",
       "      <td>Economie vs Ecologie</td>\n",
       "      <td>2019-01-22 09:41:33</td>\n",
       "      <td>2019-01-22 09:41:33</td>\n",
       "      <td>NaN</td>\n",
       "      <td>False</td>\n",
       "      <td>NaN</td>\n",
       "      <td>VXNlcjo3M2YxN2NlZS0xZDRiLTExZTktOTRkMi1mYTE2M2...</td>\n",
       "      <td>Citoyen / Citoyenne</td>\n",
       "      <td>35430</td>\n",
       "      <td>...</td>\n",
       "      <td>Aménagement de piste cyclable, développement d...</td>\n",
       "      <td>Détaxer le mode de chauffage écologique, une a...</td>\n",
       "      <td>Oui</td>\n",
       "      <td>une aide significative pour de l'éolien ou du ...</td>\n",
       "      <td>Non</td>\n",
       "      <td>Une piste cyclable pour éviter de risquer ma v...</td>\n",
       "      <td>Les transports en commun, Le covoiturage, Le vélo</td>\n",
       "      <td>La commune, le département, la région</td>\n",
       "      <td>Demander à Nicolas Hulot</td>\n",
       "      <td>Une vrai politique écologique et non économique</td>\n",
       "    </tr>\n",
       "  </tbody>\n",
       "</table>\n",
       "<p>5 rows × 26 columns</p>\n",
       "</div>"
      ],
      "text/plain": [
       "  reference                  title            createdAt          publishedAt  \\\n",
       "0       2-4  transition écologique  2019-01-22 09:37:49  2019-01-22 09:37:49   \n",
       "1       2-5       La surpopulation  2019-01-22 09:39:33  2019-01-22 09:39:33   \n",
       "2       2-6                 climat  2019-01-22 09:39:50  2019-01-22 09:39:50   \n",
       "3       2-7      POLLUTION AIR EAU  2019-01-22 09:40:19  2019-01-22 09:40:19   \n",
       "4       2-8   Economie vs Ecologie  2019-01-22 09:41:33  2019-01-22 09:41:33   \n",
       "\n",
       "  updatedAt  trashed trashedStatus  \\\n",
       "0       NaN    False           NaN   \n",
       "1       NaN    False           NaN   \n",
       "2       NaN    False           NaN   \n",
       "3       NaN    False           NaN   \n",
       "4       NaN    False           NaN   \n",
       "\n",
       "                                            authorId           authorType  \\\n",
       "0  VXNlcjoxMTQwMTc0YS0xZTFmLTExZTktOTRkMi1mYTE2M2...  Citoyen / Citoyenne   \n",
       "1  VXNlcjpjOWYxZWQ1NS0xYzEwLTExZTktOTRkMi1mYTE2M2...  Citoyen / Citoyenne   \n",
       "2  VXNlcjozZjlhNzAwOS0xYTc2LTExZTktOTRkMi1mYTE2M2...  Citoyen / Citoyenne   \n",
       "3  VXNlcjozOWQwNzJjNC0xZDEwLTExZTktOTRkMi1mYTE2M2...  Citoyen / Citoyenne   \n",
       "4  VXNlcjo3M2YxN2NlZS0xZDRiLTExZTktOTRkMi1mYTE2M2...  Citoyen / Citoyenne   \n",
       "\n",
       "   authorZipCode  ...  \\\n",
       "0          97231  ...   \n",
       "1          57000  ...   \n",
       "2          34140  ...   \n",
       "3          17400  ...   \n",
       "4          35430  ...   \n",
       "\n",
       "  Qu'est-ce qui pourrait vous inciter à changer vos comportements comme par exemple mieux entretenir et régler votre chauffage, modifier votre manière de conduire ou renoncer à prendre votre véhicule pour de très petites distances ?  \\\n",
       "0                                                NaN                                                                                                                                                                                       \n",
       "1                                                NaN                                                                                                                                                                                       \n",
       "2             développer  les transports en commun ,                                                                                                                                                                                       \n",
       "3                                                NaN                                                                                                                                                                                       \n",
       "4  Aménagement de piste cyclable, développement d...                                                                                                                                                                                       \n",
       "\n",
       "  Quelles seraient pour vous les solutions les plus simples et les plus supportables sur un plan financier pour vous inciter à changer vos comportements ?  \\\n",
       "0                                                NaN                                                                                                         \n",
       "1                                                NaN                                                                                                         \n",
       "2                                                NaN                                                                                                         \n",
       "3  Plus de transports publics dans les petites co...                                                                                                         \n",
       "4  Détaxer le mode de chauffage écologique, une a...                                                                                                         \n",
       "\n",
       "  Par rapport à votre mode de chauffage actuel, pensez-vous qu'il existe des solutions alternatives plus écologiques ?  \\\n",
       "0                                                NaN                                                                     \n",
       "1                                                NaN                                                                     \n",
       "2                                                Non                                                                     \n",
       "3                                                Non                                                                     \n",
       "4                                                Oui                                                                     \n",
       "\n",
       "  Si oui, que faudrait-il faire pour vous convaincre ou vous aider à changer de mode de chauffage ?  \\\n",
       "0                                                NaN                                                  \n",
       "1                                                NaN                                                  \n",
       "2                                                NaN                                                  \n",
       "3                                                NaN                                                  \n",
       "4  une aide significative pour de l'éolien ou du ...                                                  \n",
       "\n",
       "  Avez-vous pour vos déplacements quotidiens la possibilité de recourir à des solutions de mobilité alternatives à la voiture individuelle comme les transports en commun, le covoiturage, l'auto-partage, le transport à la demande, le vélo, etc. ?  \\\n",
       "0                                                NaN                                                                                                                                                                                                    \n",
       "1                                                NaN                                                                                                                                                                                                    \n",
       "2                                                Oui                                                                                                                                                                                                    \n",
       "3                                                Non                                                                                                                                                                                                    \n",
       "4                                                Non                                                                                                                                                                                                    \n",
       "\n",
       "  Si oui, que faudrait-il faire pour vous convaincre ou vous aider à utiliser ces solutions alternatives ?  \\\n",
       "0                                                NaN                                                         \n",
       "1                                                NaN                                                         \n",
       "2                                                NaN                                                         \n",
       "3  Le co-voiturage ne correspond pas toujours aux...                                                         \n",
       "4  Une piste cyclable pour éviter de risquer ma v...                                                         \n",
       "\n",
       "  Si non, quelles sont les solutions de mobilité alternatives que vous souhaiteriez pouvoir utiliser ?  \\\n",
       "0                                                NaN                                                     \n",
       "1                                                NaN                                                     \n",
       "2  Les transports en commun, L'auto partage, Le t...                                                     \n",
       "3                           Les transports en commun                                                     \n",
       "4  Les transports en commun, Le covoiturage, Le vélo                                                     \n",
       "\n",
       "  Et qui doit selon vous se charger de vous proposer ce type de solutions alternatives ?  \\\n",
       "0                                                NaN                                       \n",
       "1                                                NaN                                       \n",
       "2                                                NaN                                       \n",
       "3                                             L'Etat                                       \n",
       "4              La commune, le département, la région                                       \n",
       "\n",
       "  Que pourrait faire la France pour faire partager ses choix en matière d'environnement au niveau européen et international ?  \\\n",
       "0             Enseignement du tri sélectif à l'école                                                                            \n",
       "1  Mettre en oeuvre au niveau national ses engage...                                                                            \n",
       "2                                                NaN                                                                            \n",
       "3  Elle n'a aucun pouvoir. Impossible de contrain...                                                                            \n",
       "4                           Demander à Nicolas Hulot                                                                            \n",
       "\n",
       "  Y a-t-il d'autres points sur la transition écologique sur lesquels vous souhaiteriez vous exprimer ?  \n",
       "0             Multiplier les centrales géothermiques                                                    \n",
       "1  Les problèmes auxquels se trouve confronté l’e...                                                    \n",
       "2                                                NaN                                                    \n",
       "3                                                NaN                                                    \n",
       "4    Une vrai politique écologique et non économique                                                    \n",
       "\n",
       "[5 rows x 26 columns]"
      ]
     },
     "execution_count": 1,
     "metadata": {},
     "output_type": "execute_result"
    }
   ],
   "source": [
    "import pandas as pd\n",
    "\n",
    "# indiquer le chemin du fichier\n",
    "chemin = \"https://raw.githubusercontent.com/curiousML/DSA/master/text_mining/data/LA_TRANSITION_ECOLOGIQUE.csv\"\n",
    "\n",
    "# notre dataframe\n",
    "raw_data = pd.read_csv(chemin, error_bad_lines=False, warn_bad_lines=False)\n",
    "\n",
    "raw_data.head()"
   ]
  },
  {
   "cell_type": "code",
   "execution_count": 2,
   "metadata": {},
   "outputs": [
    {
     "data": {
      "text/plain": [
       "0                   Multiplier les centrales géothermiques\n",
       "1        Les problèmes auxquels se trouve confronté l’e...\n",
       "2                                                      NaN\n",
       "3                                                      NaN\n",
       "4          Une vrai politique écologique et non économique\n",
       "                               ...                        \n",
       "35977                                                  NaN\n",
       "35978    Il faut que la France montre l'exemple et de m...\n",
       "35979    Toutes les collectivités et administrations do...\n",
       "35980    je souhaite insister sur l'intérêt de l'énergi...\n",
       "35981    Nous allons vers une crise énergétique d'ici à...\n",
       "Name: Y a-t-il d'autres points sur la transition écologique sur lesquels vous souhaiteriez vous exprimer ?, Length: 35982, dtype: object"
      ]
     },
     "execution_count": 2,
     "metadata": {},
     "output_type": "execute_result"
    }
   ],
   "source": [
    "# filtre du dataset sur la colonne question\n",
    "question = \"Y a-t-il d'autres points sur la transition écologique sur lesquels vous souhaiteriez vous exprimer ?\"\n",
    "data = raw_data[question]\n",
    "\n",
    "data"
   ]
  },
  {
   "cell_type": "code",
   "execution_count": 3,
   "metadata": {},
   "outputs": [],
   "source": [
    "# suppression des nan\n",
    "textes = data[data.notnull()]\n",
    "textes = textes.values.tolist()"
   ]
  },
  {
   "cell_type": "markdown",
   "metadata": {},
   "source": [
    "## 2 Preprocessing\n",
    "\n",
    "- Mise en minuscule du texte\n",
    "- Tokeniser le texte\n",
    "- Utilisation du modèle français : 'fr_core_news_lg' pour inteprerter les \n",
    "- Retirer les stopwords et tout ce qui n'est pas du texte (nombre, ponctuation ...) nom, verbe, adverbe, adjectif \n",
    "- Lemmatiser renvoie la forme canonique du mot"
   ]
  },
  {
   "cell_type": "code",
   "execution_count": 4,
   "metadata": {},
   "outputs": [
    {
     "name": "stderr",
     "output_type": "stream",
     "text": [
      "/home/quentin/Documents/projet/perso/nlp_reviews_29220905/.venv/lib/python3.8/site-packages/tqdm/auto.py:22: TqdmWarning: IProgress not found. Please update jupyter and ipywidgets. See https://ipywidgets.readthedocs.io/en/stable/user_install.html\n",
      "  from .autonotebook import tqdm as notebook_tqdm\n"
     ]
    }
   ],
   "source": [
    "import spacy\n",
    "\n",
    "nlp = spacy.load(\"fr_core_news_lg\")\n",
    "\n",
    "docs = []\n",
    "for doc in textes:\n",
    "    doc = nlp(doc.lower())\n",
    "    tokens = []\n",
    "    for token in doc:\n",
    "        #if len(token.orth_) > 3 and token.pos_ in ['NOUN', 'ADJ', 'VERB', 'ADV'] and token.is_stop == False and str(token).isalpha(): \n",
    "        if len(token.orth_) > 3 and token.is_stop == False and str(token).isalpha():\n",
    "            tokens.append(token.lemma_)\n",
    "\n",
    "            \n",
    "    if len(tokens) > 1:\n",
    "        docs.append(tokens)\n",
    "    else:\n",
    "        pass"
   ]
  },
  {
   "cell_type": "code",
   "execution_count": null,
   "metadata": {},
   "outputs": [],
   "source": [
    "'Multiplier les centrales géothermiques'\n",
    "['multiplier', 'centrale', 'géothermique']"
   ]
  },
  {
   "cell_type": "code",
   "execution_count": 11,
   "metadata": {},
   "outputs": [
    {
     "data": {
      "text/plain": [
       "[['multiplier', 'centrale', 'géothermique']]"
      ]
     },
     "execution_count": 11,
     "metadata": {},
     "output_type": "execute_result"
    }
   ],
   "source": [
    "# avant bigramme \n",
    "docs[13]"
   ]
  },
  {
   "cell_type": "markdown",
   "metadata": {},
   "source": [
    "## Bigramme\n",
    "\n",
    "Deuxième étape du processus: transformer les tokens les plus récurrents et adjacents dans la liste de token en un seul et même token. Ce qui a pour but d’aider l'interprétation des token par le modèle.\n",
    "exemple :\n",
    " ['centrale', 'géothermique'] => ['centrale_géothermique']\n"
   ]
  },
  {
   "cell_type": "code",
   "execution_count": 6,
   "metadata": {},
   "outputs": [],
   "source": [
    "# creation des bigrammes\n",
    "import re\n",
    "from gensim.models import Phrases\n",
    "\n",
    "bigram = Phrases(docs, min_count=10)\n",
    "\n",
    "for index in range(len(docs)):\n",
    "    for token in bigram[docs[index]]:\n",
    "        \n",
    "        if '_' in token:\n",
    "            docs[index].append(token)"
   ]
  },
  {
   "cell_type": "code",
   "execution_count": 27,
   "metadata": {},
   "outputs": [
    {
     "data": {
      "text/plain": [
       "['aider',\n",
       " 'développement',\n",
       " 'énergie',\n",
       " 'durable',\n",
       " 'hydroélectrique',\n",
       " 'récupération',\n",
       " 'énergie',\n",
       " 'délaisser',\n",
       " 'model',\n",
       " 'établir',\n",
       " 'subvention',\n",
       " 'nucléaire']"
      ]
     },
     "execution_count": 27,
     "metadata": {},
     "output_type": "execute_result"
    }
   ],
   "source": [
    "# apres bigramme\n",
    "docs[20]"
   ]
  },
  {
   "cell_type": "markdown",
   "metadata": {},
   "source": [
    "## LDA\n",
    "\n",
    "- 1 On stock les données dans un dictionnaire\n",
    "- 2 Le dictionnaire est converti en Bag Of Words (mot/nombre d’occurrences)\n",
    "- 3 Extrem filter permet d'enlever les mots les moins fréquents et les mots trop fréquents. Nous filtrons notre dict pour supprimer les paires clé : valeur avec moins de 3 occurrences ou plus de 25 % du nombre total d'échantillons.\n"
   ]
  },
  {
   "cell_type": "code",
   "execution_count": 6,
   "metadata": {},
   "outputs": [
    {
     "name": "stdout",
     "output_type": "stream",
     "text": [
      "Nombre de mots unique dans les documents initiaux : 25122\n",
      "Nombre de mots unique dans les documents après avoir enlevé les mots fréquents/peu fréquents : 11277\n",
      "Exemple : [(166, 1), (167, 1), (168, 1), (169, 1), (170, 1), (171, 1), (172, 1), (173, 1), (174, 1), (175, 1), (176, 1), (177, 1), (178, 1)]\n"
     ]
    }
   ],
   "source": [
    "from gensim.corpora import Dictionary\n",
    "\n",
    "dictionary = Dictionary(docs)\n",
    "print('Nombre de mots unique dans les documents initiaux :', len(dictionary))\n",
    "\n",
    "dictionary.filter_extremes(no_below=3, no_above=0.25)\n",
    "print('Nombre de mots unique dans les documents après avoir enlevé les mots fréquents/peu fréquents :', len(dictionary))\n",
    "\n",
    "print(\"Exemple :\", dictionary.doc2bow(docs[4]))\n",
    "\n",
    "corpus = [dictionary.doc2bow(text) for text in docs]"
   ]
  },
  {
   "cell_type": "markdown",
   "metadata": {},
   "source": [
    "## Nombre de topics\n",
    "\n",
    "Nous pouvons utiliser le score de cohérence dans la modélisation des sujets pour mesurer à quel point les sujets sont interprétables pour les humains. Dans ce cas, les sujets sont représentés par les N premiers mots ayant la probabilité la plus élevée d'appartenir à ce sujet particulier.\n",
    "Le score de cohérence mesure à quel point ces mots sont similaires les uns aux autres.\n"
   ]
  },
  {
   "cell_type": "code",
   "execution_count": 7,
   "metadata": {},
   "outputs": [
    {
     "name": "stderr",
     "output_type": "stream",
     "text": [
      "100%|██████████| 28/28 [06:57<00:00, 14.91s/it]\n"
     ]
    }
   ],
   "source": [
    "from gensim.models import CoherenceModel\n",
    "import gensim\n",
    "import gensim.corpora as corpora\n",
    "from tqdm import tqdm\n",
    "\n",
    "def compute_coherence_values(dictionary, corpus, texts, limit, start, step):\n",
    "    coherence_values = []\n",
    "    model_list = []\n",
    "    for num_topics in tqdm(range(start, limit, step)):\n",
    "        \n",
    "        model = gensim.models.ldamodel.LdaModel(corpus=corpus, num_topics=num_topics, id2word=dictionary)\n",
    "        model_list.append(model)\n",
    "\n",
    "        coherencemodel = CoherenceModel(model=model, texts=texts, dictionary=dictionary, coherence='c_v')\n",
    "        coherence_values.append(coherencemodel.get_coherence())\n",
    "\n",
    "    return model_list, coherence_values\n",
    "\n",
    "# Can take a long time to run.\n",
    "model_list, coherence_values = compute_coherence_values(dictionary=dictionary, corpus=corpus, texts=docs, start=2, limit=30, step=1)"
   ]
  },
  {
   "cell_type": "code",
   "execution_count": 8,
   "metadata": {},
   "outputs": [
    {
     "name": "stdout",
     "output_type": "stream",
     "text": [
      "Le nombre de topic base sur la metric CoherenceModel: 10\n"
     ]
    },
    {
     "data": {
      "image/png": "[encoded data removed]",
      "text/plain": [
       "<Figure size 640x480 with 1 Axes>"
      ]
     },
     "metadata": {},
     "output_type": "display_data"
    }
   ],
   "source": [
    "import matplotlib.pyplot as plt\n",
    "\n",
    "index_max_val = coherence_values.index(max(coherence_values))\n",
    "\n",
    "print('Le nombre de topic base sur la metric CoherenceModel:', index_max_val)\n",
    "\n",
    "x = range(2, 30, 1)\n",
    "plt.plot(x, coherence_values)\n",
    "plt.xlabel(\"Num Topics\")\n",
    "plt.ylabel(\"Coherence score\")\n",
    "plt.legend((\"coherence_values\"), loc='best')\n",
    "plt.show()"
   ]
  },
  {
   "cell_type": "markdown",
   "metadata": {},
   "source": [
    "# Affichage des sujets"
   ]
  },
  {
   "cell_type": "code",
   "execution_count": 12,
   "metadata": {},
   "outputs": [
    {
     "name": "stdout",
     "output_type": "stream",
     "text": [
      "***********\n",
      "* topic 1 *\n",
      "***********\n",
      "1 : 0.023*\"nucléaire\" + 0.021*\"énergie\" + 0.014*\"faire\" + 0.014*\"falloir\" + 0.011*\"électrique\" + 0.011*\"électricité\" + 0.010*\"centrale\" + 0.009*\"france\" + 0.008*\"produire\" + 0.007*\"voiture\"\n",
      "\n",
      "***********\n",
      "* topic 2 *\n",
      "***********\n",
      "2 : 0.033*\"interdire\" + 0.026*\"produit\" + 0.023*\"plastique\" + 0.018*\"emballage\" + 0.016*\"glyphosate\" + 0.015*\"pesticide\" + 0.012*\"chasse\" + 0.011*\"interdiction\" + 0.011*\"industriel\" + 0.010*\"santé\"\n",
      "\n",
      "***********\n",
      "* topic 3 *\n",
      "***********\n",
      "3 : 0.026*\"ville\" + 0.015*\"centre\" + 0.012*\"zone\" + 0.010*\"commercial\" + 0.010*\"grand\" + 0.009*\"polluer\" + 0.008*\"arrêter\" + 0.008*\"nuit\" + 0.007*\"eau\" + 0.006*\"installer\"\n",
      "\n",
      "***********\n",
      "* topic 4 *\n",
      "***********\n",
      "4 : 0.023*\"voiture\" + 0.023*\"véhicule\" + 0.012*\"vitesse\" + 0.012*\"route\" + 0.012*\"faire\" + 0.012*\"transport\" + 0.010*\"falloir\" + 0.008*\"prix\" + 0.008*\"commun\" + 0.007*\"électrique\"\n",
      "\n",
      "***********\n",
      "* topic 5 *\n",
      "***********\n",
      "5 : 0.020*\"falloir\" + 0.019*\"faire\" + 0.010*\"politique\" + 0.009*\"écologique\" + 0.008*\"citoyen\" + 0.007*\"prendre\" + 0.007*\"pouvoir\" + 0.007*\"bien\" + 0.007*\"planète\" + 0.006*\"transition\"\n",
      "\n",
      "***********\n",
      "* topic 6 *\n",
      "***********\n",
      "6 : 0.023*\"animal\" + 0.013*\"environnement\" + 0.012*\"agriculture\" + 0.009*\"biodiversité\" + 0.008*\"agricole\" + 0.008*\"espèce\" + 0.007*\"produit\" + 0.007*\"protection\" + 0.006*\"écologie\" + 0.006*\"falloir\"\n",
      "\n",
      "***********\n",
      "* topic 7 *\n",
      "***********\n",
      "7 : 0.047*\"taxer\" + 0.037*\"transport\" + 0.024*\"avion\" + 0.018*\"pollueur\" + 0.017*\"gros\" + 0.016*\"polluant\" + 0.014*\"bateau\" + 0.014*\"taxe\" + 0.013*\"pollution\" + 0.013*\"aérien\"\n",
      "\n",
      "***********\n",
      "* topic 8 *\n",
      "***********\n",
      "8 : 0.023*\"produit\" + 0.014*\"déchet\" + 0.013*\"falloir\" + 0.011*\"favoriser\" + 0.010*\"local\" + 0.008*\"entreprise\" + 0.008*\"faire\" + 0.008*\"agriculture\" + 0.007*\"grand\" + 0.007*\"développer\"\n",
      "\n",
      "***********\n",
      "* topic 9 *\n",
      "***********\n",
      "9 : 0.034*\"électrique\" + 0.029*\"voiture\" + 0.027*\"véhicule\" + 0.023*\"solution\" + 0.017*\"hydrogène\" + 0.015*\"batterie\" + 0.015*\"moteur\" + 0.014*\"voiture_électrique\" + 0.014*\"diesel\" + 0.012*\"recherche\"\n",
      "\n",
      "***********\n",
      "* topic 10 *\n",
      "***********\n",
      "10 : 0.019*\"énergie\" + 0.009*\"renouvelable\" + 0.008*\"place\" + 0.008*\"production\" + 0.008*\"travail\" + 0.007*\"transport\" + 0.007*\"entreprise\" + 0.007*\"grand\" + 0.007*\"aide\" + 0.006*\"énergétique\"\n",
      "\n",
      "***********\n",
      "* topic 11 *\n",
      "***********\n",
      "11 : 0.040*\"transition\" + 0.037*\"écologique\" + 0.026*\"transition_écologique\" + 0.015*\"taxe\" + 0.008*\"faire\" + 0.008*\"européen\" + 0.007*\"pays\" + 0.007*\"falloir\" + 0.006*\"niveau\" + 0.006*\"financer\"\n",
      "\n",
      "***********\n",
      "* topic 12 *\n",
      "***********\n",
      "12 : 0.026*\"solaire\" + 0.017*\"panneau\" + 0.016*\"éolien\" + 0.012*\"énergie\" + 0.012*\"france\" + 0.009*\"produit\" + 0.009*\"construction\" + 0.009*\"électricité\" + 0.009*\"production\" + 0.008*\"éolienne\"\n",
      "\n"
     ]
    }
   ],
   "source": [
    "model_seleted = model_list[index_max_val]\n",
    "\n",
    "\n",
    "for (topic, words) in model_seleted.print_topics():\n",
    "    print(\"***********\")\n",
    "    print(\"* topic\", topic+1, \"*\")\n",
    "    print(\"***********\")\n",
    "    print(topic+1, \":\", words)"
   ]
  }
 ],
 "metadata": {
  "kernelspec": {
   "display_name": "Python 3.8.10 ('.venv': venv)",
   "language": "python",
   "name": "python3"
  },
  "language_info": {
   "codemirror_mode": {
    "name": "ipython",
    "version": 3
   },
   "file_extension": ".py",
   "mimetype": "text/x-python",
   "name": "python",
   "nbconvert_exporter": "python",
   "pygments_lexer": "ipython3",
   "version": "3.8.10"
  },
  "orig_nbformat": 4,
  "vscode": {
   "interpreter": {
    "hash": "b93db617741ccad26d75280863a15f4fc6d1aa81612a4c787c6981c0fe8e16ab"
   }
  }
 },
 "nbformat": 4,
 "nbformat_minor": 2
}
